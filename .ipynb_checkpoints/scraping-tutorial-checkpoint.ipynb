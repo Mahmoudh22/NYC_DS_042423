{
 "cells": [
  {
   "cell_type": "code",
   "execution_count": 1,
   "metadata": {},
   "outputs": [],
   "source": [
    "# installations \n",
    "import requests\n",
    "from bs4 import BeautifulSoup\n",
    "import csv"
   ]
  },
  {
   "cell_type": "code",
   "execution_count": null,
   "metadata": {},
   "outputs": [],
   "source": [
    "# requesting HTML \n",
    "URL = \"http://books.toscrape.com/\"\n",
    "\n",
    "# shows website HTML content\n",
    "print(r.content)\n",
    "\n",
    "# get your user agent from brower\n",
    "headers = {\"Mozilla/5.0 (Macintosh; Intel Mac OS X 10_15_7) AppleWebKit/537.36 (KHTML, like Gecko) Chrome/113.0.0.0 Safari/537.36\"}\n",
    "\n",
    "r = requests.get(url=URL, headers=headers)\n",
    "print(r.content)"
   ]
  },
  {
   "cell_type": "code",
   "execution_count": null,
   "metadata": {},
   "outputs": [],
   "source": [
    "# parse html content with soup \n",
    "\n",
    "soup = BeautifulSoup(r.content, 'html.parser') \n",
    "\n",
    "# easily read the HTML\n",
    "print(soup.prettify())"
   ]
  },
  {
   "cell_type": "code",
   "execution_count": null,
   "metadata": {},
   "outputs": [],
   "source": [
    "# find the information in HTML of books \n",
    "books = soup.find_all(\"article\", class_=\"product_pod\")"
   ]
  },
  {
   "cell_type": "code",
   "execution_count": null,
   "metadata": {},
   "outputs": [],
   "source": [
    "# Iterate through the books and extract the information for each book\n",
    "for book in books:\n",
    "    title = book.h3.a[\"title\"]\n",
    "    price = book.find(\"p\", class_=\"price_color\").get_text().strip()\n",
    "    rating = book.p[\"class\"][1]\n",
    "    stock = book.find(\"p\", class_=\"instock availability\").get_text().strip()\n",
    "    \n",
    "    print(f\"Title: {title}\")\n",
    "    print(f\"Price: {price}\")\n",
    "    print(f\"Rating: {rating}\")\n",
    "    print(f\"Available: {stock}\")"
   ]
  },
  {
   "cell_type": "markdown",
   "metadata": {},
   "source": [
    "## functions \n",
    "\n",
    "\n",
    "The find() function is used to find the first occurrence of a tag in the HTML/XML document.\n",
    "It takes two arguments: the name of the tag and any attributes associated with it.\n",
    "    \n",
    "    \n",
    "The find_all() function is used to find all occurrences of a tag in the HTML/XML document.\n",
    "It takes the same arguments as find().\n",
    "\n",
    "get_text()\n",
    "The get_text() function is used to get the text content of a tag. It takes no arguments.\n",
    "\n",
    "\n",
    "The find_parent() function is used to find the parent tag of a given tag. It takes no arguments.\n",
    "\n",
    "The find_next_sibling() function is used to find the next sibling tag of a given tag. It takes no arguments.\n",
    "\n",
    " find_all_next()\n",
    "The find_all_next() function is used to find all the tags that come after a given tag in the HTML/XML document. It takes no arguments.\n",
    "\n",
    "\n"
   ]
  }
 ],
 "metadata": {
  "kernelspec": {
   "display_name": "Python 3",
   "language": "python",
   "name": "python3"
  },
  "language_info": {
   "codemirror_mode": {
    "name": "ipython",
    "version": 3
   },
   "file_extension": ".py",
   "mimetype": "text/x-python",
   "name": "python",
   "nbconvert_exporter": "python",
   "pygments_lexer": "ipython3",
   "version": "3.8.5"
  }
 },
 "nbformat": 4,
 "nbformat_minor": 5
}
